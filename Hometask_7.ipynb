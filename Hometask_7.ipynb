{
  "nbformat": 4,
  "nbformat_minor": 0,
  "metadata": {
    "colab": {
      "provenance": []
    },
    "kernelspec": {
      "name": "python3",
      "display_name": "Python 3"
    },
    "language_info": {
      "name": "python"
    }
  },
  "cells": [
    {
      "cell_type": "markdown",
      "source": [
        "# Теория вероятностей и математическая статистика.\n",
        "## Домашнее задание 7"
      ],
      "metadata": {
        "id": "iyCytgkVzox5"
      }
    },
    {
      "cell_type": "markdown",
      "source": [
        "## Выберете тест и проверьте, есть ли различия между выборками:"
      ],
      "metadata": {
        "id": "9LICsWufzwpr"
      }
    },
    {
      "cell_type": "code",
      "source": [
        "import numpy as np\n",
        "import scipy.stats as stats"
      ],
      "metadata": {
        "id": "EucaXehtInSj"
      },
      "execution_count": 1,
      "outputs": []
    },
    {
      "cell_type": "markdown",
      "source": [
        "* Задание 1   \n",
        "Даны две независимые выборки. Не соблюдается условие нормальности\n",
        "x1 380,420, 290\n",
        "y1 140,360,200,900\n",
        "Сделайте вывод по результатам, полученным с помощью функции"
      ],
      "metadata": {
        "id": "UlCOI9_cz8l1"
      }
    },
    {
      "cell_type": "code",
      "source": [
        "x1 = np.array([380,420, 290])\n",
        "y1 = np.array([140,360,200,900])\n",
        "\n",
        "print(f'{stats.mannwhitneyu(x1, y1)}. Pvalue > 0,05 (альфа), следовательно статистических различий нет')"
      ],
      "metadata": {
        "colab": {
          "base_uri": "https://localhost:8080/"
        },
        "id": "gbImM7XQ0C8D",
        "outputId": "81dea20e-72cc-4711-e3f4-4a08bd717303"
      },
      "execution_count": 5,
      "outputs": [
        {
          "output_type": "stream",
          "name": "stdout",
          "text": [
            "MannwhitneyuResult(statistic=8.0, pvalue=0.6285714285714286). Pvalue > 0,05 (альфа), следовательно статистических различий нет\n"
          ]
        }
      ]
    },
    {
      "cell_type": "markdown",
      "source": [
        "* Задание 2   \n",
        "Исследовалось влияние препарата на уровень давления пациентов. Сначала измерялось давление до приема препарата, потом через 10 минут и через 30 минут. Есть ли статистически значимые различия?\n",
        "1е измерение до приема препарата: 150, 160, 165, 145, 155\n",
        "2е измерение через 10 минут: 140, 155, 150, 130, 135\n",
        "3е измерение через 30 минут: 130, 130, 120, 130, 125"
      ],
      "metadata": {
        "id": "wkq-MHKU0DhI"
      }
    },
    {
      "cell_type": "code",
      "source": [
        "x1 = np.array([150, 160, 165, 145, 155])\n",
        "x2 = np.array([140, 155, 150, 130, 135])\n",
        "x3 = np.array([130, 130, 120, 130, 125])\n",
        "\n",
        "print(f'{stats.friedmanchisquare(x1, x2, x3)}. P-value < 0,05, следовательно, имеются статистические различия')"
      ],
      "metadata": {
        "colab": {
          "base_uri": "https://localhost:8080/"
        },
        "id": "sNjXaO5m0Oih",
        "outputId": "d6f7c3eb-14c9-4392-c5a6-70141f05e88b"
      },
      "execution_count": 11,
      "outputs": [
        {
          "output_type": "stream",
          "name": "stdout",
          "text": [
            "FriedmanchisquareResult(statistic=9.578947368421062, pvalue=0.00831683351100441). P-value < 0,05, следовательно, имеются статистические различия\n"
          ]
        }
      ]
    },
    {
      "cell_type": "markdown",
      "source": [
        "* Задание 3   \n",
        "Сравните 1 и 2 е измерения, предполагая, что 3го измерения через 30 минут не было."
      ],
      "metadata": {
        "id": "hbkj4aRM0O44"
      }
    },
    {
      "cell_type": "code",
      "source": [
        "x1 = np.array([150, 160, 165, 145, 155])\n",
        "x2 = np.array([140, 155, 150, 130, 135])\n",
        "\n",
        "print(stats.mannwhitneyu(x1,x2))\n",
        "print(stats.wilcoxon(x1, x2))\n",
        "print(f'P-value > 0,05, следовательно нет статистически значимых различий')"
      ],
      "metadata": {
        "colab": {
          "base_uri": "https://localhost:8080/"
        },
        "id": "nd-QwlRP0VcD",
        "outputId": "fcc42710-c909-4360-df12-128d531efafb"
      },
      "execution_count": 9,
      "outputs": [
        {
          "output_type": "stream",
          "name": "stdout",
          "text": [
            "MannwhitneyuResult(statistic=21.0, pvalue=0.09269171612444643)\n",
            "WilcoxonResult(statistic=0.0, pvalue=0.0625)\n"
          ]
        }
      ]
    },
    {
      "cell_type": "markdown",
      "source": [
        "* Задание 4   \n",
        "Даны 3 группы учеников плавания.\n",
        "В 1 группе время на дистанцию 50 м составляют:\n",
        "56, 60, 62, 55, 71, 67, 59, 58, 64, 67\n",
        "Вторая группа : 57, 58, 69, 48, 72, 70, 68, 71, 50, 53\n",
        "Третья группа: 57, 67, 49, 48, 47, 55, 66, 51, 54"
      ],
      "metadata": {
        "id": "Zbvg9qIi0WBI"
      }
    },
    {
      "cell_type": "code",
      "source": [
        "x1 = np.array([56, 60, 62, 55, 71, 67, 59, 58, 64, 67])\n",
        "x2 = np.array([57, 58, 69, 48, 72, 70, 68, 71, 50, 53])\n",
        "x3 = np.array([57, 67, 49, 48, 47, 55, 66, 51, 54])\n",
        "\n",
        "print(f'{stats.kruskal(x1,x2,x3)}. P-value > 0,05, следовательно, нет статистически значимых различий')"
      ],
      "metadata": {
        "colab": {
          "base_uri": "https://localhost:8080/"
        },
        "id": "8pCLG53I0awQ",
        "outputId": "ceea57cc-6115-4823-cf9e-41842a4239e8"
      },
      "execution_count": 17,
      "outputs": [
        {
          "output_type": "stream",
          "name": "stdout",
          "text": [
            "KruskalResult(statistic=5.465564058257224, pvalue=0.0650380998590494). P-value > 0,05, следовательно, нет статистически значимых различий\n"
          ]
        }
      ]
    },
    {
      "cell_type": "markdown",
      "source": [
        "* Задание 5   \n",
        "Заявляется, что партия изготавливается со средним арифметическим 2,5 см. Проверить данную гипотезу, если известно, что размеры изделий подчинены нормальному закону распределения. Объем выборки 10, уровень статистической значимости 5%\n",
        "2.51, 2.35, 2.74, 2.56, 2.40, 2.36, 2.65, 2.7, 2.67, 2.34"
      ],
      "metadata": {
        "id": "DcKNrWgs0bLk"
      }
    },
    {
      "cell_type": "code",
      "source": [
        "arr = np.array([2.51, 2.35, 2.74, 2.56, 2.40, 2.36, 2.65, 2.7, 2.67, 2.34])\n",
        "mu = 2.5\n",
        "n = len(arr)\n",
        "alfa = 0.05\n",
        "avrg = np.mean(arr)\n",
        "sigma = np.std(arr, ddof=1)\n",
        "t_table = stats.t.ppf((1-alfa), n-1)\n",
        "\n",
        "t = (avrg - mu) / (sigma / n**0.5)\n",
        "print(f't = {t}, t_table = {t_table}')\n",
        "if t < t_table:\n",
        "  print(f'Статистически значимых различий нет. Принимаем основную гипотезу')\n",
        "else:\n",
        "  print(f'Имеются статистически значимые различия. Основную гипотезу отвергаем')"
      ],
      "metadata": {
        "colab": {
          "base_uri": "https://localhost:8080/"
        },
        "id": "1zs1SWD-OtRD",
        "outputId": "6669d0c5-199d-410c-9b6e-e4462dc982d6"
      },
      "execution_count": 28,
      "outputs": [
        {
          "output_type": "stream",
          "name": "stdout",
          "text": [
            "t = 0.5630613661802959, t_table = 1.8331129326536335\n",
            "Статистически значимых различий нет. Принимаем основную гипотезу\n"
          ]
        }
      ]
    }
  ]
}