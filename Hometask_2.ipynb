{
  "cells": [
    {
      "cell_type": "markdown",
      "metadata": {
        "id": "wFjKVRo6HrJs"
      },
      "source": [
        "#Теория вероятностей и математическая статистика.\n",
        "## Домашнее задание 2\n",
        "\n"
      ]
    },
    {
      "cell_type": "code",
      "execution_count": 23,
      "metadata": {
        "id": "zsX_uTXeJX4W"
      },
      "outputs": [],
      "source": [
        "from math import factorial\n",
        "\n",
        "def combination (n, k):\n",
        "  return factorial(n) / (factorial(k) * factorial(n-k))\n",
        "\n",
        "def bernulli (func, n, k, p):\n",
        "  q = 1-p\n",
        "  return func * (p ** k) * (q ** (n-k))\n",
        "\n",
        "def puasson (m, l):\n",
        "  return ((l ** m) / factorial(m)) * (2.72 ** (-l))"
      ]
    },
    {
      "cell_type": "markdown",
      "metadata": {
        "id": "P0AMpVSnNbw_"
      },
      "source": [
        "* Задание 1.   \n",
        "Вероятность того, что стрелок попадет в мишень, выстрелив один раз, равна 0.8. Стрелок выстрелил 100 раз. Найдите вероятность того, что стрелок попадет в цель ровно 85 раз."
      ]
    },
    {
      "cell_type": "code",
      "execution_count": 6,
      "metadata": {
        "colab": {
          "base_uri": "https://localhost:8080/"
        },
        "id": "vr2HmdTcNiEP",
        "outputId": "e968fb3b-f5b0-4c47-d2b7-2d2a5b803d0b"
      },
      "outputs": [
        {
          "data": {
            "text/plain": [
              "0.048061793700746355"
            ]
          },
          "execution_count": 6,
          "metadata": {},
          "output_type": "execute_result"
        }
      ],
      "source": [
        "n = 100\n",
        "k = 85\n",
        "p = 0.8\n",
        "\n",
        "res = bernulli(combination(n, k), n, k, p)\n",
        "res"
      ]
    },
    {
      "cell_type": "markdown",
      "metadata": {
        "id": "eAHvywT-P1Dy"
      },
      "source": [
        "* Задание 2.    \n",
        "Вероятность того, что лампочка перегорит в течение первого дня эксплуатации, равна 0.0004. В жилом комплексе после ремонта в один день включили 5000 новых лампочек. Какова вероятность, что ни одна из них не перегорит в первый день? Какова вероятность, что перегорят ровно две?"
      ]
    },
    {
      "cell_type": "code",
      "execution_count": 41,
      "metadata": {
        "colab": {
          "base_uri": "https://localhost:8080/"
        },
        "id": "rL_MGtuMQC6e",
        "outputId": "45906c8a-cf9e-4680-91ab-1627434bc046"
      },
      "outputs": [
        {
          "name": "stdout",
          "output_type": "stream",
          "text": [
            "По Пуассону, ни одна не перегорит с вероятностью 0.9995998273383238  или  99.96 %\n",
            "По Бернулли получается вероятность -  0.13528114551440706  или  13.53 %\n"
          ]
        }
      ],
      "source": [
        "k = m = 0\n",
        "p = l = 0.0004\n",
        "n = 5000\n",
        "\n",
        "res = puasson(m, l)\n",
        "res2 = bernulli(combination(n, k), n, k, p)\n",
        "print('По Пуассону, ни одна не перегорит с вероятностью', res, ' или ', round(res*100, 2), '%')\n",
        "print('По Бернулли получается вероятность - ', res2, ' или ', round(res2*100, 2), '%')"
      ]
    },
    {
      "cell_type": "code",
      "execution_count": 42,
      "metadata": {
        "colab": {
          "base_uri": "https://localhost:8080/"
        },
        "id": "mgUrhxSrTAmE",
        "outputId": "66902ac0-6942-4616-9f1c-1715229cda68"
      },
      "outputs": [
        {
          "name": "stdout",
          "output_type": "stream",
          "text": [
            "По Пуассону, перегорят ровно 2 с вероятностью 7.99679861870659e-08  или  0.0 %\n",
            "По Бернулли получается вероятность -  0.2707247150266753  или  27.07 %\n"
          ]
        }
      ],
      "source": [
        "k = m = 2\n",
        "p = l = 0.0004\n",
        "n = 5000\n",
        "\n",
        "res = puasson(m, l)\n",
        "res2 = bernulli(combination(n, k), n, k, p)\n",
        "print('По Пуассону, перегорят ровно 2 с вероятностью', res, ' или ', round(res*100, 2), '%')\n",
        "print('По Бернулли получается вероятность - ', res2, ' или ', round(res2*100, 2), '%')"
      ]
    },
    {
      "cell_type": "markdown",
      "metadata": {
        "id": "gD0sY2DTZxiX"
      },
      "source": [
        "* Задание 3.    \n",
        "Монету подбросили 144 раза. Какова вероятность, что орел выпадет ровно 70 раз?"
      ]
    },
    {
      "cell_type": "code",
      "execution_count": 44,
      "metadata": {
        "colab": {
          "base_uri": "https://localhost:8080/"
        },
        "id": "oT7MGGtPZ6_c",
        "outputId": "4e13a11b-e3f4-4467-b782-02958ee29039"
      },
      "outputs": [
        {
          "data": {
            "text/plain": [
              "0.06281178035144776"
            ]
          },
          "execution_count": 44,
          "metadata": {},
          "output_type": "execute_result"
        }
      ],
      "source": [
        "k = 70\n",
        "n = 144\n",
        "p = 0.5\n",
        "\n",
        "res = bernulli(combination(n, k), n, k, p)\n",
        "res"
      ]
    },
    {
      "cell_type": "markdown",
      "metadata": {
        "id": "iUnojlg_acCX"
      },
      "source": [
        "* Задание 4.    \n",
        "В первом ящике находится 10 мячей, из которых 7 - белые. Во втором ящике - 11 мячей, из которых 9 белых. Из каждого ящика вытаскивают случайным образом по два мяча. Какова вероятность того, что все мячи белые? Какова вероятность того, что ровно два мяча белые? Какова вероятность того, что хотя бы один мяч белый?\n"
      ]
    },
    {
      "cell_type": "code",
      "execution_count": 46,
      "metadata": {
        "colab": {
          "base_uri": "https://localhost:8080/"
        },
        "id": "c0hhW3igarQt",
        "outputId": "15496f36-51a1-48da-a9f7-ddaf8f068bef"
      },
      "outputs": [
        {
          "data": {
            "text/plain": [
              "0.3054545454545455"
            ]
          },
          "execution_count": 46,
          "metadata": {},
          "output_type": "execute_result"
        }
      ],
      "source": [
        "res = (combination(7, 2) / combination(10,2)) * (combination(9, 2) / combination(11, 2))\n",
        "res"
      ]
    },
    {
      "cell_type": "code",
      "execution_count": 50,
      "metadata": {
        "colab": {
          "base_uri": "https://localhost:8080/"
        },
        "id": "-Ox9Sh3LbjNJ",
        "outputId": "88a10dae-4371-4c63-88e8-21280ee02024"
      },
      "outputs": [
        {
          "name": "stdout",
          "output_type": "stream",
          "text": [
            "0.008484848484848484\n",
            "0.04363636363636363\n",
            "0.15272727272727274\n"
          ]
        },
        {
          "data": {
            "text/plain": [
              "0.20484848484848486"
            ]
          },
          "execution_count": 50,
          "metadata": {},
          "output_type": "execute_result"
        }
      ],
      "source": [
        "var1 = ((combination(7, 2) * combination(3, 0)) / combination(10, 2)) * ((combination(9, 0) * combination(2, 2)) / combination(11, 2))\n",
        "var2 = ((combination(7, 0) * combination(3, 2)) / combination(10, 2)) * ((combination(9, 2) * combination(2, 0)) / combination(11, 2))\n",
        "var3 = ((combination(7, 1) * combination(3, 1)) / combination(10, 2)) * ((combination(9, 1) * combination(2, 1)) / combination(11, 2))\n",
        "print(var1)\n",
        "print(var2)\n",
        "print(var3)\n",
        "var1 + var2 + var3"
      ]
    },
    {
      "cell_type": "code",
      "execution_count": 51,
      "metadata": {
        "colab": {
          "base_uri": "https://localhost:8080/"
        },
        "id": "lLydb_ifdlY3",
        "outputId": "c2cd2538-32f0-4a50-e306-fe18ea32dceb"
      },
      "outputs": [
        {
          "data": {
            "text/plain": [
              "0.9987878787878788"
            ]
          },
          "execution_count": 51,
          "metadata": {},
          "output_type": "execute_result"
        }
      ],
      "source": [
        "res = 1 - ((combination(7, 0) * combination(3, 2)) / combination(10, 2)) * ((combination(9, 0) * combination(2, 2)) / combination(11, 2))\n",
        "res"
      ]
    }
  ],
  "metadata": {
    "colab": {
      "collapsed_sections": [],
      "provenance": []
    },
    "kernelspec": {
      "display_name": "Python 3.8.2 32-bit",
      "language": "python",
      "name": "python3"
    },
    "language_info": {
      "name": "python",
      "version": "3.8.2"
    },
    "vscode": {
      "interpreter": {
        "hash": "b677cb54b56d9aead218f7c038be3444687d05fd30a0522979cd21e9303b5836"
      }
    }
  },
  "nbformat": 4,
  "nbformat_minor": 0
}
