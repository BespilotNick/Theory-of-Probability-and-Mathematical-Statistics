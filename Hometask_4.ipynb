{
  "nbformat": 4,
  "nbformat_minor": 0,
  "metadata": {
    "colab": {
      "provenance": []
    },
    "kernelspec": {
      "name": "python3",
      "display_name": "Python 3"
    },
    "language_info": {
      "name": "python"
    }
  },
  "cells": [
    {
      "cell_type": "markdown",
      "source": [
        "#Теория вероятностей и математическая статистика.\n",
        "##Домашнее задание 3"
      ],
      "metadata": {
        "id": "hQ-8SSTxdH6-"
      }
    },
    {
      "cell_type": "markdown",
      "source": [
        "Задание 1.  \n",
        "Случайная непрерывная величина A имеет равномерное распределение на промежутке (200, 800].\n",
        "Найдите ее среднее значение и дисперсию."
      ],
      "metadata": {
        "id": "c0g-Kb8adQwB"
      }
    },
    {
      "cell_type": "code",
      "source": [
        "a = 200\n",
        "b = 800\n",
        "print(f'Среднее значение = {(a+b)/2}')\n",
        "print(f'Дисперсия = {((b-a)**2)/12}')"
      ],
      "metadata": {
        "colab": {
          "base_uri": "https://localhost:8080/"
        },
        "id": "sLDx_UpPddOA",
        "outputId": "18afa79e-9e19-4a99-fa2a-5b3a7b612b39"
      },
      "execution_count": 2,
      "outputs": [
        {
          "output_type": "stream",
          "name": "stdout",
          "text": [
            "Среднее значение = 500.0\n",
            "Дисперсия = 30000.0\n"
          ]
        }
      ]
    },
    {
      "cell_type": "markdown",
      "source": [
        "Задание 2.   \n",
        "О случайной непрерывной равномерно распределенной величине B известно, что ее дисперсия равна 0.2.\n",
        "Можно ли найти правую границу величины B и ее среднее значение зная, что левая граница равна 0.5?\n",
        "Если да, найдите ее."
      ],
      "metadata": {
        "id": "GbamKe52ddqL"
      }
    },
    {
      "cell_type": "code",
      "source": [
        "D = 0.2\n",
        "a = 0.5\n",
        "b = ((12*D)**0.5) + a\n",
        "mid = (a+b)/2\n",
        "print(f'Правая граница = {b}')\n",
        "print(f'Среднее значение = {mid}')"
      ],
      "metadata": {
        "colab": {
          "base_uri": "https://localhost:8080/"
        },
        "id": "bOiKgkgZdkFb",
        "outputId": "004a09fe-0ae7-460b-fdcf-2834e0ca9dbd"
      },
      "execution_count": 4,
      "outputs": [
        {
          "output_type": "stream",
          "name": "stdout",
          "text": [
            "Правая граница = 2.049193338482967\n",
            "Среднее значение = 1.2745966692414834\n"
          ]
        }
      ]
    },
    {
      "cell_type": "markdown",
      "source": [
        "Задание 3.   \n",
        "Непрерывная случайная величина X распределена нормально и задана плотностью распределения\n",
        "f(x) = (1 / (4 * sqrt(2pi))) * exp((-(x+2)**2) / 32)\n",
        "Найдите:\n",
        "а). M(X)\n",
        "б). D(X)\n",
        "в). std(X) (среднее квадратичное отклонение)"
      ],
      "metadata": {
        "id": "87NRb_1Rdkgs"
      }
    },
    {
      "cell_type": "code",
      "source": [
        "# f(x) = (1 / (sigma * (2*pi)**0.5)) * e**((-x-a)**2 / 2*sigma**2)\n",
        "# Соответственно данной формуле:\n",
        "\n",
        "print(f'M(X) = -2')\n",
        "print(f'D(X) = 16')\n",
        "print(f'std(X) = 4')"
      ],
      "metadata": {
        "colab": {
          "base_uri": "https://localhost:8080/"
        },
        "id": "EJK_obSFdqwx",
        "outputId": "e4c87ba6-9acf-46e6-f962-f068ecb86b71"
      },
      "execution_count": 5,
      "outputs": [
        {
          "output_type": "stream",
          "name": "stdout",
          "text": [
            "M(X) = -2\n",
            "D(X) = 16\n",
            "std(X) = 4\n"
          ]
        }
      ]
    },
    {
      "cell_type": "markdown",
      "source": [
        "Задание 4.   \n",
        "Рост взрослого населения города X имеет нормальное распределение.\n",
        "Причем, средний рост равен 174 см, а среднее квадратичное отклонение равно 8 см.\n",
        "Какова вероятность того, что случайным образом выбранный взрослый человек имеет рост:\n",
        "а). больше 182 см\n",
        "б). больше 190 см\n",
        "в). от 166 см до 190 см\n",
        "г). от 166 см до 182 см\n",
        "д). от 158 см до 190 см\n",
        "е). не выше 150 см или не ниже 190 см\n",
        "ё). не выше 150 см или не ниже 198 см\n",
        "ж). ниже 166 см."
      ],
      "metadata": {
        "id": "vfWuIv7ldrBm"
      }
    },
    {
      "cell_type": "code",
      "source": [
        "M = 174\n",
        "stdx = 8\n",
        "S1, S2, S3 = 68, 95.4, 99.72\n",
        "halfS1 = ledgeS1 = 34\n",
        "halfS2, ledgeS2 = 47.7, 13.7\n",
        "halfS3, ledgeS3 = 49.86, 2.13\n",
        "rest, halfrest = 0.28, 0.14\n",
        "total = 100\n",
        "\n",
        "print(f'Вероятность того, что случайным образом выбранный взрослый человек имеет рост:  ')\n",
        "print(f'а) больше 182 см = {total - (total/2 + ledgeS1)}%')\n",
        "print(f'б) больше 190 см = {total - (total/2 + halfS2)}%')\n",
        "print(f'в) от 166 см до 190 см = {total - (rest + 2*ledgeS3 + ledgeS2)}%')\n",
        "print(f'г) от 166 см до 182 см = {S1}%')\n",
        "print(f'д) от 158 см до 190 см = {S2}%')\n",
        "print(f'е) не выше 150 см или не ниже 190 см = {rest + ledgeS3}%')\n",
        "print(f'ё) не выше 150 см или не ниже 198 см = {rest}%')\n",
        "print(f'ж) ниже 166 см. = {total - (total/2 + ledgeS1)}%')"
      ],
      "metadata": {
        "colab": {
          "base_uri": "https://localhost:8080/"
        },
        "id": "i_OxY-HMdw46",
        "outputId": "890e71af-82e7-406e-b5cb-23e8d4117192"
      },
      "execution_count": 19,
      "outputs": [
        {
          "output_type": "stream",
          "name": "stdout",
          "text": [
            "Вероятность того, что случайным образом выбранный взрослый человек имеет рост:  \n",
            "а) больше 182 см = 16.0%\n",
            "б) больше 190 см = 2.299999999999997%\n",
            "в) от 166 см до 190 см = 81.76%\n",
            "г) от 166 см до 182 см = 68%\n",
            "д) от 158 см до 190 см = 95.4%\n",
            "е) не выше 150 см или не ниже 190 см = 2.41%\n",
            "ё) не выше 150 см или не ниже 198 см = 0.28%\n",
            "ж) ниже 166 см. = 16.0%\n"
          ]
        }
      ]
    },
    {
      "cell_type": "markdown",
      "source": [
        "Задание 5.   \n",
        "На сколько сигм (средних квадратичных отклонений) отклоняется рост человека, равный 190 см, от\n",
        "математического ожидания роста в популяции, в которой M(X) = 178 см и D(X) = 25 кв.см?"
      ],
      "metadata": {
        "id": "ysveACU5dxKO"
      }
    },
    {
      "cell_type": "code",
      "source": [
        "Mx = 178\n",
        "Dx = 25\n",
        "sigma = Dx**0.5\n",
        "height = 190\n",
        "dev = (height - Mx) / sigma\n",
        "print(f'Отклонение составляет - {dev} сигм(ы)')"
      ],
      "metadata": {
        "colab": {
          "base_uri": "https://localhost:8080/"
        },
        "id": "IrRSO1h2dxs9",
        "outputId": "90d4c421-e725-4279-f5c6-986d06cd339c"
      },
      "execution_count": 8,
      "outputs": [
        {
          "output_type": "stream",
          "name": "stdout",
          "text": [
            "Отклонение составляет - 2.4 сигм(ы)\n"
          ]
        }
      ]
    }
  ]
}