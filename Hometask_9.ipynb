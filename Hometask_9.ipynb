{
  "nbformat": 4,
  "nbformat_minor": 0,
  "metadata": {
    "colab": {
      "provenance": []
    },
    "kernelspec": {
      "name": "python3",
      "display_name": "Python 3"
    },
    "language_info": {
      "name": "python"
    }
  },
  "cells": [
    {
      "cell_type": "markdown",
      "source": [
        "# Теория вероятностей и математическая статистика.\n",
        "## Домашнее задание 9"
      ],
      "metadata": {
        "id": "cEImiu4MO96Z"
      }
    },
    {
      "cell_type": "code",
      "source": [
        "import numpy as np\n",
        "import pandas as pd\n",
        "import scipy.stats as stats\n",
        "import matplotlib.pyplot as plt\n",
        "from sklearn.linear_model import LinearRegression"
      ],
      "metadata": {
        "id": "SWskb35OPFgR"
      },
      "execution_count": 2,
      "outputs": []
    },
    {
      "cell_type": "markdown",
      "source": [
        "* Задание 1   \n",
        "Даны значения величины заработной платы заемщиков банка (zp) и значения их поведенческого кредитного скоринга (ks): zp = [35, 45, 190, 200, 40, 70, 54, 150, 120, 110], ks = [401, 574, 874, 919, 459, 739, 653, 902, 746, 832]. Используя математические операции, посчитать коэффициенты линейной регрессии, приняв за X заработную плату (то есть, zp - признак), а за y - значения скорингового балла (то есть, ks - целевая переменная). Произвести расчет как с использованием intercept, так и без."
      ],
      "metadata": {
        "id": "OchtgV4YQRr8"
      }
    },
    {
      "cell_type": "code",
      "source": [
        "zp = [35, 45, 190, 200, 40, 70, 54, 150, 120, 110]\n",
        "ks = [401, 574, 874, 919, 459, 739, 653, 902, 746, 832]\n",
        "\n",
        "x = np.array(zp)\n",
        "y = np.array(ks)\n",
        "n = len(x)\n",
        "\n",
        "b1 = (n * np.sum(x * y) - np.sum(x) * np.sum(y)) / (n * np.sum(x**2) - np.sum(x)**2)\n",
        "b2 = (np.mean(x*y) - np.mean(x) * np.mean(y)) / (np.mean(x**2) - np.mean(x)**2)\n",
        "print(f'b1 = {b1}')\n",
        "print(f'b2 = {b2}')\n",
        "\n",
        "b0 = np.mean(y) - b1 * np.mean(x)\n",
        "print(f'b0 = {b0}')\n",
        "print()\n",
        "\n",
        "y_pred = b0 + b1 * x\n",
        "print(f'y_pred = {y_pred}')\n",
        "print()\n",
        "\n",
        "Pirson = np.corrcoef(x, y)[0, 1]\n",
        "print(f'Коээфициент корреляции = {Pirson}')\n",
        "\n",
        "determ = Pirson**2\n",
        "print(f'Коэффициент детерминации = {determ}')\n",
        "print()\n",
        "\n",
        "plt.scatter(x, y)\n",
        "plt.xlabel(\"Зарплата, тыс. руб./нед\")\n",
        "plt.ylabel(\"Кредитный скоринг\")\n",
        "plt.plot(x,y_pred)\n",
        "plt.show"
      ],
      "metadata": {
        "colab": {
          "base_uri": "https://localhost:8080/",
          "height": 470
        },
        "id": "hL2y5qrVQZJX",
        "outputId": "ab0e6ea1-c6f1-45fd-f1da-b1f965bb5e46"
      },
      "execution_count": 3,
      "outputs": [
        {
          "output_type": "stream",
          "name": "stdout",
          "text": [
            "b1 = 2.6205388824027653\n",
            "b2 = 2.620538882402765\n",
            "b0 = 444.17735732435955\n",
            "\n",
            "y_pred = [535.89621821 562.10160703 942.07974498 968.2851338  548.99891262\n",
            " 627.61507909 585.68645697 837.25818968 758.64202321 732.43663439]\n",
            "\n",
            "Коээфициент корреляции = 0.8874900920739162\n",
            "Коэффициент детерминации = 0.7876386635293682\n",
            "\n"
          ]
        },
        {
          "output_type": "execute_result",
          "data": {
            "text/plain": [
              "<function matplotlib.pyplot.show(*args, **kw)>"
            ]
          },
          "metadata": {},
          "execution_count": 3
        },
        {
          "output_type": "display_data",
          "data": {
            "text/plain": [
              "<Figure size 432x288 with 1 Axes>"
            ],
            "image/png": "[encoded data removed]"
          },
          "metadata": {
            "needs_background": "light"
          }
        }
      ]
    },
    {
      "cell_type": "code",
      "source": [
        "zp = [35, 45, 190, 200, 40, 70, 54, 150, 120, 110]\n",
        "ks = [401, 574, 874, 919, 459, 739, 653, 902, 746, 832]\n",
        "\n",
        "x = np.array(zp).reshape(len(x), 1)\n",
        "y = np.array(ks).reshape(len(x), 1)\n",
        "\n",
        "lr = LinearRegression()\n",
        "\n",
        "lr.fit(x, y)\n",
        "coef_det = lr.score(x,y)\n",
        "print(f'Coefficient of determination = {coef_det}')\n",
        "print(f'Intercept = {lr.intercept_}')\n",
        "print(f'Slope = {lr.coef_}')\n",
        "\n",
        "print()\n",
        "y_pred = lr.predict(x)\n",
        "print(f'y_pred = {y_pred}')\n",
        "plt.scatter(x, y)\n",
        "plt.plot(x, y_pred)\n",
        "plt.show"
      ],
      "metadata": {
        "colab": {
          "base_uri": "https://localhost:8080/",
          "height": 525
        },
        "id": "wj95d1SrmqKo",
        "outputId": "7e0d026d-ca23-49ca-986b-207995574c0b"
      },
      "execution_count": 4,
      "outputs": [
        {
          "output_type": "stream",
          "name": "stdout",
          "text": [
            "Coefficient of determination = 0.7876386635293685\n",
            "Intercept = [444.17735732]\n",
            "Slope = [[2.62053888]]\n",
            "\n",
            "y_pred = [[535.89621821]\n",
            " [562.10160703]\n",
            " [942.07974498]\n",
            " [968.2851338 ]\n",
            " [548.99891262]\n",
            " [627.61507909]\n",
            " [585.68645697]\n",
            " [837.25818968]\n",
            " [758.64202321]\n",
            " [732.43663439]]\n"
          ]
        },
        {
          "output_type": "execute_result",
          "data": {
            "text/plain": [
              "<function matplotlib.pyplot.show(*args, **kw)>"
            ]
          },
          "metadata": {},
          "execution_count": 4
        },
        {
          "output_type": "display_data",
          "data": {
            "text/plain": [
              "<Figure size 432x288 with 1 Axes>"
            ],
            "image/png": "[encoded data removed]"
          },
          "metadata": {
            "needs_background": "light"
          }
        }
      ]
    },
    {
      "cell_type": "code",
      "source": [
        "remains = y - y_pred\n",
        "print(f'remains = {remains}')\n",
        "rem_mean = np.mean(remains)\n",
        "print(f'rem_mean = {rem_mean}')\n",
        "\n",
        "plt.scatter(x, remains)\n",
        "plt.axhline(rem_mean, color = 'r', linestyle = '-')\n",
        "plt.show\n",
        "print()\n",
        "stats.shapiro(remains)"
      ],
      "metadata": {
        "colab": {
          "base_uri": "https://localhost:8080/",
          "height": 491
        },
        "id": "CdVQ_wpDnnu2",
        "outputId": "b050a86c-0314-4054-ebae-05964de3ea22"
      },
      "execution_count": 5,
      "outputs": [
        {
          "output_type": "stream",
          "name": "stdout",
          "text": [
            "remains = [[-134.89621821]\n",
            " [  11.89839297]\n",
            " [ -68.07974498]\n",
            " [ -49.2851338 ]\n",
            " [ -89.99891262]\n",
            " [ 111.38492091]\n",
            " [  67.31354303]\n",
            " [  64.74181032]\n",
            " [ -12.64202321]\n",
            " [  99.56336561]]\n",
            "rem_mean = 1.1368683772161604e-14\n",
            "\n"
          ]
        },
        {
          "output_type": "execute_result",
          "data": {
            "text/plain": [
              "ShapiroResult(statistic=0.9479533433914185, pvalue=0.6443524360656738)"
            ]
          },
          "metadata": {},
          "execution_count": 5
        },
        {
          "output_type": "display_data",
          "data": {
            "text/plain": [
              "<Figure size 432x288 with 1 Axes>"
            ],
            "image/png": "[encoded data removed]"
          },
          "metadata": {
            "needs_background": "light"
          }
        }
      ]
    },
    {
      "cell_type": "code",
      "source": [
        "alfa = 0.05\n",
        "p = 2\n",
        "n = len(x)\n",
        "conf_int = 1 - alfa\n",
        "df1 = p - 1\n",
        "df2 = n - p\n",
        "tabular_F = stats.f.ppf(conf_int, df1, df2)\n",
        "\n",
        "SSf = np.sum((y_pred - np.mean(y))**2)\n",
        "SSo = np.sum((y - y_pred)**2)\n",
        "print(f'SSf = {SSf}, SSo = {SSo}')\n",
        "\n",
        "MSf = SSf/df1\n",
        "MSo = SSo/df2\n",
        "print(f'MSf = {MSf}, MSo = {MSo}')\n",
        "\n",
        "F = MSf/MSo\n",
        "\n",
        "print(f'y = {y}')\n",
        "print(f'mean(y) = {np.mean(y)}')\n",
        "print(f'y_pred = {y_pred}')\n",
        "\n",
        "print(f'Табличное значение критерия Фишера = {tabular_F}')\n",
        "print(f'Рассчитанное значение критерия Фишера = {F}')\n",
        "print('Рассчитанное значение критерия Фишера больше табличного, следовательно, наши расчеты статистически значимы')"
      ],
      "metadata": {
        "colab": {
          "base_uri": "https://localhost:8080/"
        },
        "id": "_l0ks3SXsXfX",
        "outputId": "02f801be-33de-48f2-b12f-3f1ef56eb3b6"
      },
      "execution_count": 7,
      "outputs": [
        {
          "output_type": "stream",
          "name": "stdout",
          "text": [
            "SSf = 239984.7579882336, SSo = 64704.1420117666\n",
            "MSf = 239984.7579882336, MSo = 8088.017751470825\n",
            "y = [[401]\n",
            " [574]\n",
            " [874]\n",
            " [919]\n",
            " [459]\n",
            " [739]\n",
            " [653]\n",
            " [902]\n",
            " [746]\n",
            " [832]]\n",
            "mean(y) = 709.9\n",
            "y_pred = [[535.89621821]\n",
            " [562.10160703]\n",
            " [942.07974498]\n",
            " [968.2851338 ]\n",
            " [548.99891262]\n",
            " [627.61507909]\n",
            " [585.68645697]\n",
            " [837.25818968]\n",
            " [758.64202321]\n",
            " [732.43663439]]\n",
            "Табличное значение критерия Фишера = 5.317655071578714\n",
            "Рассчитанное значение критерия Фишера = 29.67164085966451\n",
            "Рассчитанное значение критерия Фишера больше табличного, следовательно, наши расчеты статистически значимы\n"
          ]
        }
      ]
    },
    {
      "cell_type": "code",
      "source": [
        "R1 = np.corrcoef(x, y)[1,0]**2\n",
        "T1 = (R1/(1-R1))*(df2/df1)\n",
        "print(f'T1 = {T1}')"
      ],
      "metadata": {
        "colab": {
          "base_uri": "https://localhost:8080/"
        },
        "id": "kk0S3Olt1aGE",
        "outputId": "47012223-4729-4b62-bfbc-6c4559c4c374"
      },
      "execution_count": 27,
      "outputs": [
        {
          "output_type": "stream",
          "name": "stdout",
          "text": [
            "T1 = 29.671640859664432\n"
          ]
        }
      ]
    },
    {
      "cell_type": "markdown",
      "source": [
        "* Задание 2   \n",
        "Посчитать коэффициент линейной регрессии при заработной плате (zp), используя градиентный спуск (без intercept)."
      ],
      "metadata": {
        "id": "NqZ4IL_kQZou"
      }
    },
    {
      "cell_type": "code",
      "source": [
        "zp = [35, 45, 190, 200, 40, 70, 54, 150, 120, 110]\n",
        "ks = [401, 574, 874, 919, 459, 739, 653, 902, 746, 832]\n",
        "\n",
        "x = np.array(zp)\n",
        "y = np.array(ks)\n",
        "n = len(x)\n",
        "B1 = 0.1\n",
        "alpha = 1e-6\n",
        "\n",
        "def mse_(B1, y=y, x=x, n=n):\n",
        "  return np.sum((B1*x - y)**2)/n\n",
        "print(f'mse = {mse_(B1)}')"
      ],
      "metadata": {
        "id": "jL-q35VgQgaL",
        "colab": {
          "base_uri": "https://localhost:8080/"
        },
        "outputId": "c9f60689-88b5-4629-c1f9-00075b11ff21"
      },
      "execution_count": 23,
      "outputs": [
        {
          "output_type": "stream",
          "name": "stdout",
          "text": [
            "mse = 518336.326\n"
          ]
        }
      ]
    },
    {
      "cell_type": "code",
      "source": [
        "zp = [35, 45, 190, 200, 40, 70, 54, 150, 120, 110]\n",
        "ks = [401, 574, 874, 919, 459, 739, 653, 902, 746, 832]\n",
        "\n",
        "x = np.array(zp)\n",
        "y = np.array(ks)\n",
        "n = len(x)\n",
        "B1 = 0.1\n",
        "alpha = 1e-6\n",
        "\n",
        "mse1 = 1/n * np.sum((B1*x - y) * x)\n",
        "mse2 = (2/n) * np.sum((B1 * x - y)**2)\n",
        "print(f'mse1 = {mse1}')\n",
        "print(f'mse2 = {mse2}')\n",
        "# Эти обе формулы давали на лекции, но какая-то, явно неправильная\n",
        "print()\n",
        "\n",
        "for i in range(3001):\n",
        "  B1 -= alpha * (2/n) * np.sum((B1*x-y)*x)\n",
        "  if i % 500 == 0:\n",
        "    print(f'Iteration = {i}     B1 = {B1}     mse = {mse_(B1)}')"
      ],
      "metadata": {
        "colab": {
          "base_uri": "https://localhost:8080/"
        },
        "id": "IuehwO9YJQ0W",
        "outputId": "40d85d93-5e28-4202-8478-4226a3eb919b"
      },
      "execution_count": 34,
      "outputs": [
        {
          "output_type": "stream",
          "name": "stdout",
          "text": [
            "mse1 = -79764.04000000001\n",
            "mse2 = 1036672.652\n",
            "\n",
            "Iteration = 0     B1 = 0.25952808     mse = 493237.7212546963\n",
            "Iteration = 500     B1 = 5.889815595583751     mse = 56516.858416040064\n",
            "Iteration = 1000     B1 = 5.8898204201285544     mse = 56516.85841571941\n",
            "Iteration = 1500     B1 = 5.889820420132673     mse = 56516.85841571943\n",
            "Iteration = 2000     B1 = 5.889820420132673     mse = 56516.85841571943\n",
            "Iteration = 2500     B1 = 5.889820420132673     mse = 56516.85841571943\n",
            "Iteration = 3000     B1 = 5.889820420132673     mse = 56516.85841571943\n"
          ]
        }
      ]
    },
    {
      "cell_type": "code",
      "source": [
        "mse_(5.889820420132673)"
      ],
      "metadata": {
        "colab": {
          "base_uri": "https://localhost:8080/"
        },
        "id": "F3Q5oCbWOyEQ",
        "outputId": "c067e94d-ae52-410e-a4c0-d4ee0dabeddb"
      },
      "execution_count": 36,
      "outputs": [
        {
          "output_type": "execute_result",
          "data": {
            "text/plain": [
              "56516.85841571943"
            ]
          },
          "metadata": {},
          "execution_count": 36
        }
      ]
    },
    {
      "cell_type": "markdown",
      "source": [
        "* Задание 3   \n",
        "Произвести вычисления как в пункте 2, но с вычислением intercept. Учесть, что изменение коэффициентов должно производиться на каждом шаге одновременно (то есть изменение одного коэффициента не должно влиять на изменение другого во время одной итерации)."
      ],
      "metadata": {
        "id": "H6nyF6MTQgq3"
      }
    },
    {
      "cell_type": "code",
      "source": [
        "# к сожалению, я не понял как делать это задание"
      ],
      "metadata": {
        "id": "Jliar9wTQl5G"
      },
      "execution_count": null,
      "outputs": []
    }
  ]
}