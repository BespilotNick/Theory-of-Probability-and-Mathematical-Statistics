{
  "nbformat": 4,
  "nbformat_minor": 0,
  "metadata": {
    "colab": {
      "provenance": []
    },
    "kernelspec": {
      "name": "python3",
      "display_name": "Python 3"
    },
    "language_info": {
      "name": "python"
    }
  },
  "cells": [
    {
      "cell_type": "markdown",
      "source": [
        "# Теория вероятностей и математическая статистика.\n",
        "## Домашнее задание 8"
      ],
      "metadata": {
        "id": "6mDvdqGPrOSQ"
      }
    },
    {
      "cell_type": "code",
      "source": [
        "import numpy as np\n",
        "import scipy.stats as sst\n",
        "import matplotlib.pyplot as plt"
      ],
      "metadata": {
        "id": "yqTagOEBGBic"
      },
      "execution_count": 8,
      "outputs": []
    },
    {
      "cell_type": "markdown",
      "source": [
        "* Задание 1   \n",
        "Даны значения величины заработной платы заемщиков банка (zp) и значения их поведенческого кредитного скоринга (ks):\n",
        "zp = [35, 45, 190, 200, 40, 70, 54, 150, 120, 110],\n",
        "ks = [401, 574, 874, 919, 459, 739, 653, 902, 746, 832].\n",
        "Найдите ковариацию этих двух величин с помощью элементарных действий, а затем с помощью функции cov из numpy\n",
        "Полученные значения должны быть равны.\n",
        "Найдите коэффициент корреляции Пирсона с помощью ковариации и среднеквадратичных отклонений двух признаков,\n",
        "а затем с использованием функций из библиотек numpy и pandas."
      ],
      "metadata": {
        "id": "Y7o-1ellrbvV"
      }
    },
    {
      "cell_type": "code",
      "source": [
        "zp = [35, 45, 190, 200, 40, 70, 54, 150, 120, 110]\n",
        "ks = [401, 574, 874, 919, 459, 739, 653, 902, 746, 832]\n",
        "\n",
        "def MXY(a: list, b: list):\n",
        "  if len(a) != len(b):\n",
        "    print(f'Количество элементов в представленных списках не одинаково! Расчёт невозможен! Уточните данные!')\n",
        "  else:\n",
        "    newlist = []\n",
        "    for i in range(len(a)):\n",
        "      newlist.append(a[i]*b[i])\n",
        "  return sum(newlist)/len(newlist)\n",
        "\n",
        "MXY = MXY(zp, ks)\n",
        "MX = np.mean(zp)\n",
        "MY = np.mean(ks)\n",
        "\n",
        "cov1 = MXY - MX * MY\n",
        "print(f'Рассчитанная ковариация = {cov1}')\n",
        "\n",
        "cov2 = np.cov(zp, ks, ddof = 1)\n",
        "cov3 = np.cov(zp, ks, ddof = 0)\n",
        "print(f'Смещенная ковариация = {cov3}')\n",
        "print(f'Несмещенная ковариация = {cov2}')\n",
        "\n",
        "\n",
        "sig_x = np.std(zp, ddof=0)\n",
        "sig_y = np.std(ks, ddof=0)\n",
        "coef_Pirson = cov1 / (sig_x * sig_y)\n",
        "print(f'Kоэффициент корреляции Пирсона с помощью среднеквадратичных отклонений = {coef_Pirson}')\n",
        "\n",
        "coef_Pirson2 = np.corrcoef(zp, ks)\n",
        "print(f'Kоэффициент корреляции Пирсона с помощью библиотеки numpy =  {coef_Pirson2}')\n",
        "\n",
        "print()\n",
        "plt.scatter(ks, zp)\n",
        "plt.show"
      ],
      "metadata": {
        "colab": {
          "base_uri": "https://localhost:8080/",
          "height": 439
        },
        "id": "SsTyPvdDrlW_",
        "outputId": "f34753e7-8609-4c49-a6e0-e012363e8247"
      },
      "execution_count": 12,
      "outputs": [
        {
          "output_type": "stream",
          "name": "stdout",
          "text": [
            "Рассчитанная ковариация = 9157.839999999997\n",
            "Смещенная ковариация = [[ 3494.64  9157.84]\n",
            " [ 9157.84 30468.89]]\n",
            "Несмещенная ковариация = [[ 3882.93333333 10175.37777778]\n",
            " [10175.37777778 33854.32222222]]\n",
            "Kоэффициент корреляции Пирсона с помощью среднеквадратичных отклонений = 0.8874900920739158\n",
            "Kоэффициент корреляции Пирсона с помощью библиотеки numpy =  [[1.         0.88749009]\n",
            " [0.88749009 1.        ]]\n",
            "\n"
          ]
        },
        {
          "output_type": "execute_result",
          "data": {
            "text/plain": [
              "<function matplotlib.pyplot.show(*args, **kw)>"
            ]
          },
          "metadata": {},
          "execution_count": 12
        },
        {
          "output_type": "display_data",
          "data": {
            "text/plain": [
              "<Figure size 432x288 with 1 Axes>"
            ],
            "image/png": "[encoded data removed]"
          },
          "metadata": {
            "needs_background": "light"
          }
        }
      ]
    },
    {
      "cell_type": "markdown",
      "source": [
        "* Задание 2   \n",
        "Измерены значения IQ выборки студентов,\n",
        "обучающихся в местных технических вузах:\n",
        "131, 125, 115, 122, 131, 115, 107, 99, 125, 111.\n",
        "Известно, что в генеральной совокупности IQ распределен нормально.\n",
        "Найдите доверительный интервал для математического ожидания с надежностью 0.95."
      ],
      "metadata": {
        "id": "hiF4SPrxrlo6"
      }
    },
    {
      "cell_type": "code",
      "source": [
        "studlist = [131, 125, 115, 122, 131, 115, 107, 99, 125, 111]\n",
        "a = np.array(studlist)\n",
        "n = len(a)\n",
        "M = np.mean(a)\n",
        "alfa = 0.05\n",
        "t = sst.t.ppf(1-alfa/2, n-1)\n",
        "D = np.var(a, ddof=1)\n",
        "sigma = D**0.5\n",
        "\n",
        "L = round(M - t*(sigma/n**0.5), 2)\n",
        "U = round(M + t*np.sqrt(D/n), 2)\n",
        "res = [L, U]\n",
        "print(f'Доверительный интервал IQ = {res}')"
      ],
      "metadata": {
        "colab": {
          "base_uri": "https://localhost:8080/"
        },
        "id": "lf7AHeF9rsOX",
        "outputId": "d9c1c23f-fa4e-4648-a207-38b94b6bf52e"
      },
      "execution_count": null,
      "outputs": [
        {
          "output_type": "stream",
          "name": "stdout",
          "text": [
            "Доверительный интервал IQ = [110.56, 125.64]\n"
          ]
        }
      ]
    },
    {
      "cell_type": "markdown",
      "source": [
        "* Задание 3   \n",
        "Известно, что рост футболистов в сборной распределен нормально\n",
        "с дисперсией генеральной совокупности, равной 25 кв.см. Объем выборки равен 27,\n",
        "среднее выборочное составляет 174.2. Найдите доверительный интервал для математического\n",
        "ожидания с надежностью 0.95."
      ],
      "metadata": {
        "id": "EUatG-nfrsjj"
      }
    },
    {
      "cell_type": "code",
      "source": [
        "disp = 25\n",
        "sigma = disp**0.5\n",
        "n = 27\n",
        "M = 174.2\n",
        "alfa = 0.05\n",
        "z = 1.96    # По таблице z-значений (для 0,975)\n",
        "\n",
        "L = round(M - z * sigma / n**0.5, 2)\n",
        "U = round(M + z * np.sqrt(disp/n), 2)\n",
        "res = [L, U]\n",
        "print(f'доверительный интервал для математического ожидания = {res}')"
      ],
      "metadata": {
        "colab": {
          "base_uri": "https://localhost:8080/"
        },
        "id": "EM9k7NW4ryNh",
        "outputId": "40e13ab9-f14b-48f6-9271-f1d7053429d5"
      },
      "execution_count": null,
      "outputs": [
        {
          "output_type": "stream",
          "name": "stdout",
          "text": [
            "доверительный интервал для математического ожидания = [172.31, 176.09]\n"
          ]
        }
      ]
    }
  ]
}