{
 "cells": [
  {
   "cell_type": "markdown",
   "metadata": {
    "id": "y5V5hBBKk2RA",
    "pycharm": {
     "name": "#%% md\n"
    }
   },
   "source": [
    "# Теория вероятностей и математическая статистика.\n",
    "## Домашнее задание 1"
   ]
  },
  {
   "cell_type": "code",
   "execution_count": 1,
   "metadata": {
    "id": "wdcqVoF9n_zz",
    "pycharm": {
     "name": "#%%\n"
    }
   },
   "outputs": [],
   "source": [
    "from math import factorial\n",
    "\n",
    "def combination (n, k):\n",
    "  return factorial(n) / (factorial(k) * factorial(n-k))"
   ]
  },
  {
   "cell_type": "markdown",
   "metadata": {
    "id": "NGanncr5oKYA",
    "pycharm": {
     "name": "#%% md\n"
    }
   },
   "source": [
    "* Задание 1.   \n",
    "Из колоды в 52 карты извлекаются случайным образом 4 карты. a) Найти вероятность того, что все карты – крести. б) Найти вероятность, что среди 4-х карт окажется хотя бы один туз."
   ]
  },
  {
   "cell_type": "code",
   "execution_count": 4,
   "metadata": {
    "colab": {
     "base_uri": "https://localhost:8080/"
    },
    "id": "x62NYLsqoZDZ",
    "outputId": "23b9403e-8135-448c-f1be-b9974bf8291c",
    "pycharm": {
     "name": "#%%\n"
    }
   },
   "outputs": [
    {
     "name": "stdout",
     "output_type": "stream",
     "text": [
      "Вероятность взять 4 карты крести равна -  0.0026410564225690276 или  0.26 %\n"
     ]
    }
   ],
   "source": [
    "res = combination(13, 4) / combination(52, 4)\n",
    "print('Вероятность взять 4 карты крести равна - ', res, 'или ', round(res*100, 2), '%')"
   ]
  },
  {
   "cell_type": "code",
   "execution_count": 7,
   "metadata": {
    "colab": {
     "base_uri": "https://localhost:8080/"
    },
    "id": "sQrpfkZRpUbD",
    "outputId": "64a2cd7d-e258-483e-a091-5d077606d011",
    "pycharm": {
     "name": "#%%\n"
    }
   },
   "outputs": [
    {
     "name": "stdout",
     "output_type": "stream",
     "text": [
      "0.2812632745405855\n",
      "0.2812632745405854\n"
     ]
    }
   ],
   "source": [
    "res = combination(4, 1) * combination(48, 3) / combination(52, 4) + combination(4, 2) * combination(48, 2) / combination(52, 4) + combination(4, 3) * combination(48, 1) / combination(52, 4) + combination(4, 4) * combination(48, 0) / combination(52, 4)\n",
    "print(res)\n",
    "res2 = 1 - combination(48, 4) / combination(52, 4)\n",
    "print(res2)"
   ]
  },
  {
   "cell_type": "markdown",
   "metadata": {
    "id": "xKq5Ln9yrO3n",
    "pycharm": {
     "name": "#%% md\n"
    }
   },
   "source": [
    "* Задание 2.  \n",
    "На входной двери подъезда установлен кодовый замок, содержащий десять кнопок с цифрами от 0 до 9. Код содержит три цифры, которые нужно нажать одновременно. Какова вероятность того, что человек, не знающий код, откроет дверь с первой попытки?"
   ]
  },
  {
   "cell_type": "code",
   "execution_count": 10,
   "metadata": {
    "colab": {
     "base_uri": "https://localhost:8080/"
    },
    "id": "Ze1bQ1bbrd67",
    "outputId": "67f152ac-15c5-4974-cf61-aa5f9617739b",
    "pycharm": {
     "name": "#%%\n"
    }
   },
   "outputs": [
    {
     "name": "stdout",
     "output_type": "stream",
     "text": [
      "Вероятность открыть дверь с первой попытки - 0.008333333333333333 или 0.83%\n"
     ]
    }
   ],
   "source": [
    "res = combination(3, 3) / combination(10, 3)\n",
    "print(f'Вероятность открыть дверь с первой попытки - {res} или {round(res*100, 2)}%') "
   ]
  },
  {
   "cell_type": "markdown",
   "metadata": {
    "id": "ohyRdKhdsc8C",
    "pycharm": {
     "name": "#%% md\n"
    }
   },
   "source": [
    "* Задание 3.  \n",
    "В ящике имеется 15 деталей, из которых 9 окрашены. Рабочий случайным образом извлекает 3 детали. Какова вероятность того, что все извлеченные детали окрашены?"
   ]
  },
  {
   "cell_type": "code",
   "execution_count": 12,
   "metadata": {
    "colab": {
     "base_uri": "https://localhost:8080/"
    },
    "id": "IvpVHqeaxIOp",
    "outputId": "be8d4d80-9af8-4c81-eae0-bf7b55d61d13",
    "pycharm": {
     "name": "#%%\n"
    }
   },
   "outputs": [
    {
     "name": "stdout",
     "output_type": "stream",
     "text": [
      "Вероятность, что все 3 взятые детали окрашены - 0.18461538461538463 или 18.46%\n"
     ]
    }
   ],
   "source": [
    "res = combination(9, 3) / combination(15, 3)\n",
    "print(f'Вероятность, что все 3 взятые детали окрашены - {res} или {round(res*100, 2)}%')"
   ]
  },
  {
   "cell_type": "markdown",
   "metadata": {
    "id": "n-lxrIxtxrwC",
    "pycharm": {
     "name": "#%% md\n"
    }
   },
   "source": [
    "* Задание 4.  \n",
    "В лотерее 100 билетов. Из них 2 выигрышных. Какова вероятность того, что 2 приобретенных билета окажутся выигрышными?\n"
   ]
  },
  {
   "cell_type": "code",
   "execution_count": 13,
   "metadata": {
    "colab": {
     "base_uri": "https://localhost:8080/"
    },
    "id": "uXQs85Z-xza7",
    "outputId": "7e6034ce-2eba-4cf4-c945-d51bba6d0a0f",
    "pycharm": {
     "name": "#%%\n"
    }
   },
   "outputs": [
    {
     "name": "stdout",
     "output_type": "stream",
     "text": [
      "Вероятность того, что 2 приобретенных билета окажутся выигрышными - 0.00020202020202020202 или 0.02%\n"
     ]
    }
   ],
   "source": [
    "res = combination(2, 2) / combination(100, 2)\n",
    "print(f'Вероятность того, что 2 приобретенных билета окажутся выигрышными - {res} или {round(res*100, 2)}%')"
   ]
  }
 ],
 "metadata": {
  "colab": {
   "collapsed_sections": [],
   "provenance": []
  },
  "kernelspec": {
   "display_name": "Python 3",
   "name": "python3"
  },
  "language_info": {
   "name": "python"
  }
 },
 "nbformat": 4,
 "nbformat_minor": 0
}
