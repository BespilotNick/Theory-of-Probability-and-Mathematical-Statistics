{
  "nbformat": 4,
  "nbformat_minor": 0,
  "metadata": {
    "colab": {
      "provenance": [],
      "collapsed_sections": []
    },
    "kernelspec": {
      "name": "python3",
      "display_name": "Python 3"
    },
    "language_info": {
      "name": "python"
    }
  },
  "cells": [
    {
      "cell_type": "markdown",
      "source": [
        "#Теория вероятностей и математическая статистика.\n",
        "## Домашнее задание 2\n",
        "\n"
      ],
      "metadata": {
        "id": "wFjKVRo6HrJs"
      }
    },
    {
      "cell_type": "code",
      "source": [
        "from math import factorial\n",
        "\n",
        "def combination (n, k):\n",
        "  return factorial(n) / (factorial(k) * factorial(n-k))\n",
        "\n",
        "def bernulli (func, n, k, p):\n",
        "  q = 1-p\n",
        "  return func * (p ** k) * (q ** (n-k))\n",
        "\n",
        "def puasson (m, n, p):\n",
        "  l = n*p\n",
        "  return ((l ** m) / factorial(m)) * (2.72 ** (-l))"
      ],
      "metadata": {
        "id": "zsX_uTXeJX4W"
      },
      "execution_count": 1,
      "outputs": []
    },
    {
      "cell_type": "markdown",
      "source": [
        "* Задание 1.   \n",
        "Вероятность того, что стрелок попадет в мишень, выстрелив один раз, равна 0.8. Стрелок выстрелил 100 раз. Найдите вероятность того, что стрелок попадет в цель ровно 85 раз."
      ],
      "metadata": {
        "id": "P0AMpVSnNbw_"
      }
    },
    {
      "cell_type": "code",
      "source": [
        "n = 100\n",
        "k = 85\n",
        "p = 0.8\n",
        "\n",
        "res = bernulli(combination(n, k), n, k, p)\n",
        "res"
      ],
      "metadata": {
        "colab": {
          "base_uri": "https://localhost:8080/"
        },
        "id": "vr2HmdTcNiEP",
        "outputId": "e968fb3b-f5b0-4c47-d2b7-2d2a5b803d0b"
      },
      "execution_count": null,
      "outputs": [
        {
          "output_type": "execute_result",
          "data": {
            "text/plain": [
              "0.048061793700746355"
            ]
          },
          "metadata": {},
          "execution_count": 6
        }
      ]
    },
    {
      "cell_type": "markdown",
      "source": [
        "* Задание 2.    \n",
        "Вероятность того, что лампочка перегорит в течение первого дня эксплуатации, равна 0.0004. В жилом комплексе после ремонта в один день включили 5000 новых лампочек. Какова вероятность, что ни одна из них не перегорит в первый день? Какова вероятность, что перегорят ровно две?"
      ],
      "metadata": {
        "id": "eAHvywT-P1Dy"
      }
    },
    {
      "cell_type": "code",
      "source": [
        "k = m = 0\n",
        "p = l = 0.0004\n",
        "n = 5000\n",
        "\n",
        "res = puasson(m, n, p)\n",
        "res2 = bernulli(combination(n, k), n, k, p)\n",
        "print('По Пуассону, ни одна не перегорит с вероятностью', res, ' или ', round(res*100, 2), '%')\n",
        "print('По Бернулли получается вероятность - ', res2, ' или ', round(res2*100, 2), '%')"
      ],
      "metadata": {
        "colab": {
          "base_uri": "https://localhost:8080/"
        },
        "id": "rL_MGtuMQC6e",
        "outputId": "08369579-7a39-498b-ee06-74b4fe62c004"
      },
      "execution_count": 2,
      "outputs": [
        {
          "output_type": "stream",
          "name": "stdout",
          "text": [
            "По Пуассону, ни одна не перегорит с вероятностью 0.13516435986159167  или  13.52 %\n",
            "По Бернулли получается вероятность -  0.13528114551440706  или  13.53 %\n"
          ]
        }
      ]
    },
    {
      "cell_type": "code",
      "source": [
        "k = m = 2\n",
        "p = l = 0.0004\n",
        "n = 5000\n",
        "\n",
        "res = puasson(m, n, p)\n",
        "res2 = bernulli(combination(n, k), n, k, p)\n",
        "print('По Пуассону, перегорят ровно 2 с вероятностью', res, ' или ', round(res*100, 2), '%')\n",
        "print('По Бернулли получается вероятность - ', res2, ' или ', round(res2*100, 2), '%')"
      ],
      "metadata": {
        "colab": {
          "base_uri": "https://localhost:8080/"
        },
        "id": "mgUrhxSrTAmE",
        "outputId": "b6b1a8cb-550d-46ae-f2b3-5570230c06ad"
      },
      "execution_count": 3,
      "outputs": [
        {
          "output_type": "stream",
          "name": "stdout",
          "text": [
            "По Пуассону, перегорят ровно 2 с вероятностью 0.27032871972318334  или  27.03 %\n",
            "По Бернулли получается вероятность -  0.2707247150266753  или  27.07 %\n"
          ]
        }
      ]
    },
    {
      "cell_type": "markdown",
      "source": [
        "* Задание 3.    \n",
        "Монету подбросили 144 раза. Какова вероятность, что орел выпадет ровно 70 раз?"
      ],
      "metadata": {
        "id": "gD0sY2DTZxiX"
      }
    },
    {
      "cell_type": "code",
      "source": [
        "k = 70\n",
        "n = 144\n",
        "p = 0.5\n",
        "\n",
        "res = bernulli(combination(n, k), n, k, p)\n",
        "res"
      ],
      "metadata": {
        "colab": {
          "base_uri": "https://localhost:8080/"
        },
        "id": "oT7MGGtPZ6_c",
        "outputId": "4e13a11b-e3f4-4467-b782-02958ee29039"
      },
      "execution_count": null,
      "outputs": [
        {
          "output_type": "execute_result",
          "data": {
            "text/plain": [
              "0.06281178035144776"
            ]
          },
          "metadata": {},
          "execution_count": 44
        }
      ]
    },
    {
      "cell_type": "markdown",
      "source": [
        "* Задание 4.    \n",
        "В первом ящике находится 10 мячей, из которых 7 - белые. Во втором ящике - 11 мячей, из которых 9 белых. Из каждого ящика вытаскивают случайным образом по два мяча. Какова вероятность того, что все мячи белые? Какова вероятность того, что ровно два мяча белые? Какова вероятность того, что хотя бы один мяч белый?\n"
      ],
      "metadata": {
        "id": "iUnojlg_acCX"
      }
    },
    {
      "cell_type": "code",
      "source": [
        "res = (combination(7, 2) / combination(10,2)) * (combination(9, 2) / combination(11, 2))\n",
        "res"
      ],
      "metadata": {
        "colab": {
          "base_uri": "https://localhost:8080/"
        },
        "id": "c0hhW3igarQt",
        "outputId": "15496f36-51a1-48da-a9f7-ddaf8f068bef"
      },
      "execution_count": null,
      "outputs": [
        {
          "output_type": "execute_result",
          "data": {
            "text/plain": [
              "0.3054545454545455"
            ]
          },
          "metadata": {},
          "execution_count": 46
        }
      ]
    },
    {
      "cell_type": "code",
      "source": [
        "var1 = ((combination(7, 2) * combination(3, 0)) / combination(10, 2)) * ((combination(9, 0) * combination(2, 2)) / combination(11, 2))\n",
        "var2 = ((combination(7, 0) * combination(3, 2)) / combination(10, 2)) * ((combination(9, 2) * combination(2, 0)) / combination(11, 2))\n",
        "var3 = ((combination(7, 1) * combination(3, 1)) / combination(10, 2)) * ((combination(9, 1) * combination(2, 1)) / combination(11, 2))\n",
        "print(var1)\n",
        "print(var2)\n",
        "print(var3)\n",
        "var1 + var2 + var3"
      ],
      "metadata": {
        "colab": {
          "base_uri": "https://localhost:8080/"
        },
        "id": "-Ox9Sh3LbjNJ",
        "outputId": "88a10dae-4371-4c63-88e8-21280ee02024"
      },
      "execution_count": null,
      "outputs": [
        {
          "output_type": "stream",
          "name": "stdout",
          "text": [
            "0.008484848484848484\n",
            "0.04363636363636363\n",
            "0.15272727272727274\n"
          ]
        },
        {
          "output_type": "execute_result",
          "data": {
            "text/plain": [
              "0.20484848484848486"
            ]
          },
          "metadata": {},
          "execution_count": 50
        }
      ]
    },
    {
      "cell_type": "code",
      "source": [
        "res = 1 - ((combination(7, 0) * combination(3, 2)) / combination(10, 2)) * ((combination(9, 0) * combination(2, 2)) / combination(11, 2))\n",
        "res"
      ],
      "metadata": {
        "colab": {
          "base_uri": "https://localhost:8080/"
        },
        "id": "lLydb_ifdlY3",
        "outputId": "c2cd2538-32f0-4a50-e306-fe18ea32dceb"
      },
      "execution_count": null,
      "outputs": [
        {
          "output_type": "execute_result",
          "data": {
            "text/plain": [
              "0.9987878787878788"
            ]
          },
          "metadata": {},
          "execution_count": 51
        }
      ]
    }
  ]
}