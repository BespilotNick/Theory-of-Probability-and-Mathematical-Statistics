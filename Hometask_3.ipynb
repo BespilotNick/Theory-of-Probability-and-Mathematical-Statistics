{
  "nbformat": 4,
  "nbformat_minor": 0,
  "metadata": {
    "colab": {
      "provenance": []
    },
    "kernelspec": {
      "name": "python3",
      "display_name": "Python 3"
    },
    "language_info": {
      "name": "python"
    }
  },
  "cells": [
    {
      "cell_type": "markdown",
      "source": [
        "#Теория вероятностей и математическая статистика.\n",
        "##Домашнее задание 3"
      ],
      "metadata": {
        "id": "_yO2ZekE-RJh"
      }
    },
    {
      "cell_type": "code",
      "execution_count": 29,
      "metadata": {
        "id": "FN2HRyb09g5h"
      },
      "outputs": [],
      "source": [
        "from math import factorial, sqrt\n",
        "from functools import reduce\n",
        "\n",
        "def combination (n, k):\n",
        "  return factorial(n) / (factorial(k) * factorial(n-k))\n",
        "\n",
        "def bernulli (func, n, k, p):\n",
        "  q = 1-p\n",
        "  return func * (p ** k) * (q ** (n-k))\n",
        "\n",
        "def puasson (m, n, p):\n",
        "  l = n*p\n",
        "  return ((l ** m) / factorial(m)) * (2.72 ** (-l))\n",
        "\n",
        "\n",
        "def mean(lst):\n",
        "  return sum(lst) / len(lst)\n",
        "\n",
        "\n",
        "def percintiles(lst=list, k=int):\n",
        "  lst.sort()\n",
        "  n = len(lst)\n",
        "  if (n*k/100) % 1 == 0:\n",
        "    a = int(n*k/100)\n",
        "    res = ((lst[a-1] + lst[a]) / 2)\n",
        "  else:\n",
        "    a = int((n*k/100) // 1)\n",
        "    res = lst[a]\n",
        "  return res\n",
        "\n",
        "\n",
        "def standev(lst):\n",
        "  res = 0\n",
        "  for i in lst:\n",
        "    res += (i-mean(lst))**2\n",
        "  return (res/len(lst))**0.5\n",
        "\n",
        "\n",
        "def shifted_dispersion(lst):\n",
        "  res = 0\n",
        "  for i in lst:\n",
        "    res += (i-mean(lst))**2\n",
        "  return res/len(lst)\n",
        "\n",
        "\n",
        "def unbaised_dispersion(lst):\n",
        "  res = 0\n",
        "  for i in lst:\n",
        "    res += (i-mean(lst))**2\n",
        "  return res/(len(lst)-1)\n",
        "  "
      ]
    },
    {
      "cell_type": "markdown",
      "source": [
        "Задание 1.   \n",
        "Даны значения зарплат из выборки выпускников: 100, 80, 75, 77, 89, 33, 45, 25, 65, 17, 30, 24, 57, 55, 70, 75, 65, 84, 90, 150. Посчитать (желательно без использования статистических методов наподобие std, var, mean) среднее арифметическое, среднее квадратичное отклонение, смещенную и несмещенную оценки дисперсий для данной выборки."
      ],
      "metadata": {
        "id": "eUTz1KhGwcTH"
      }
    },
    {
      "cell_type": "code",
      "source": [
        "list_of_salaries = [100, 80, 75, 77, 89, 33, 45, 25, 65, 17, 30, 24, 57, 55, 70, 75, 65, 84, 90, 150]\n",
        "print(sorted(list_of_salaries))\n",
        "print(len(list_of_salaries))\n",
        "\n",
        "print(f'среднее арифметическое = {mean(list_of_salaries)}')\n",
        "print(f'Среднее квадратичное отклонение = {standev(list_of_salaries)}')\n",
        "print(f'Смещенная дисперсия = {shifted_dispersion(list_of_salaries)}')\n",
        "print(f'Несмещенная дисперсия = {unbaised_dispersion(list_of_salaries)}')\n",
        "print(f'25-я перцинтиль = {percintiles(list_of_salaries, 25)}')\n",
        "print(f'Медиана = {percintiles(list_of_salaries, 50)}')\n",
        "print(f'75-я перцинтиль = {percintiles(list_of_salaries, 75)}')\n",
        "print(f'Интерквартильное расстояние = {percintiles(list_of_salaries, 75)-percintiles(list_of_salaries, 25)}')"
      ],
      "metadata": {
        "colab": {
          "base_uri": "https://localhost:8080/"
        },
        "id": "Tvp8z7WfuBVe",
        "outputId": "67d678f2-3bec-44b2-91dd-f96b15f609d5"
      },
      "execution_count": 34,
      "outputs": [
        {
          "output_type": "stream",
          "name": "stdout",
          "text": [
            "[17, 24, 25, 30, 33, 45, 55, 57, 65, 65, 70, 75, 75, 77, 80, 84, 89, 90, 100, 150]\n",
            "20\n",
            "среднее арифметическое = 65.3\n",
            "Среднее квадратичное отклонение = 30.823854398825596\n",
            "Смещенная дисперсия = 950.11\n",
            "Несмещенная дисперсия = 1000.1157894736842\n",
            "25-я перцинтиль = 39.0\n",
            "Медиана = 67.5\n",
            "75-я перцинтиль = 82.0\n",
            "Интерквартильное расстояние = 43.0\n"
          ]
        }
      ]
    },
    {
      "cell_type": "markdown",
      "source": [
        "Задание 2  \n",
        "В первом ящике находится 8 мячей, из которых 5 - белые. Во втором ящике - 12 мячей, из которых 5 белых. Из первого ящика вытаскивают случайным образом два мяча, из второго - 4. Какова вероятность того, что 3 мяча белые?"
      ],
      "metadata": {
        "id": "pEIcu4C-u4KH"
      }
    },
    {
      "cell_type": "code",
      "source": [
        "print('Варианты вытащить 3 белых мяча:')\n",
        "var1 = (combination(5,2)*combination(3,0)/combination(8,2)) * (combination(5,1)*combination(7,3)/combination(12,4))\n",
        "var2 = (combination(5,1)*combination(3,1)/combination(8,2)) * (combination(5,2)*combination(7,2)/combination(12,4))\n",
        "var3 = (combination(5,0)*combination(3,2)/combination(8,2)) * (combination(5,3)*combination(7,1)/combination(12,4))\n",
        "comres = var1+var2+var3\n",
        "print(f'2+1 - Вероятность = {var1}')\n",
        "print(f'1+2 - Вероятность = {var2}')\n",
        "print(f'0+3 - Вероятность = {var3}')\n",
        "print(f'Общая вероятность = {comres} или {round(comres*100, 2)}%')"
      ],
      "metadata": {
        "colab": {
          "base_uri": "https://localhost:8080/"
        },
        "id": "QspaaGxrvPl-",
        "outputId": "6e5f7f38-8557-41a3-9ef5-f8acf5b464a2"
      },
      "execution_count": 7,
      "outputs": [
        {
          "output_type": "stream",
          "name": "stdout",
          "text": [
            "Варианты вытащить 3 белых мяча:\n",
            "2+1 - Вероятность = 0.12626262626262627\n",
            "1+2 - Вероятность = 0.22727272727272727\n",
            "0+3 - Вероятность = 0.01515151515151515\n",
            "Общая вероятность = 0.3686868686868687 или 36.87%\n"
          ]
        }
      ]
    },
    {
      "cell_type": "markdown",
      "source": [
        "Задание 3.  \n",
        "На соревновании по биатлону один из трех спортсменов стреляет и попадает в мишень. Вероятность попадания для первого спортсмена равна 0.9, для второго — 0.8, для третьего — 0.6. Найти вероятность того, что выстрел произведен: a). первым спортсменом б). вторым спортсменом в). третьим спортсменом."
      ],
      "metadata": {
        "id": "uHSzmwRpvQBQ"
      }
    },
    {
      "cell_type": "code",
      "source": [
        "# Тут я немного запутался, но, наверное, должно быть так:\n",
        "p = 0.3333    # Вероятность выстрела у всех одинакова и равна 1/3\n",
        "res1 = p*0.9/(p*0.9+p*0.8+p*0.6)\n",
        "res2 = p*0.8/(p*0.9+p*0.8+p*0.6)\n",
        "res3 = p*0.6/(p*0.9+p*0.8+p*0.6)\n",
        "print(f'Вероятность, что выстрел произведен первым спортсменом = {res1} = {round(res1*100, 2)}%')\n",
        "print(f'Вероятность, что выстрел произведен вторым спортсменом = {res2} = {round(res2*100, 2)}%')\n",
        "print(f'Вероятность, что выстрел произведен третим спортсменом = {res3} = {round(res3*100, 2)}%')"
      ],
      "metadata": {
        "colab": {
          "base_uri": "https://localhost:8080/"
        },
        "id": "KV4_-CoNvc4a",
        "outputId": "48aac62f-902f-42d0-a71d-451c3f612fc8"
      },
      "execution_count": 44,
      "outputs": [
        {
          "output_type": "stream",
          "name": "stdout",
          "text": [
            "Вероятность, что выстрел произведен первым спортсменом = 0.3913043478260869 = 39.13%\n",
            "Вероятность, что выстрел произведен вторым спортсменом = 0.3478260869565217 = 34.78%\n",
            "Вероятность, что выстрел произведен третим спортсменом = 0.26086956521739124 = 26.09%\n"
          ]
        }
      ]
    },
    {
      "cell_type": "markdown",
      "source": [
        "Задание 4.   \n",
        "В университет на факультеты A и B поступило равное количество студентов, а на факультет C студентов поступило столько же, сколько на A и B вместе. Вероятность того, что студент факультета A сдаст первую сессию, равна 0.8. Для студента факультета B эта вероятность равна 0.7, а для студента факультета C - 0.9. Студент сдал первую сессию. Какова вероятность, что он учится: a). на факультете A б). на факультете B в). на факультете C?"
      ],
      "metadata": {
        "id": "7xpAxlvjvdkl"
      }
    },
    {
      "cell_type": "code",
      "source": [
        "facA = 0.25*0.8/(0.25*0.8+0.25*0.7+0.5*0.9)\n",
        "facB = 0.25*0.7/(0.25*0.8+0.25*0.7+0.5*0.9)\n",
        "facC = 0.25*0.9/(0.25*0.8+0.25*0.7+0.5*0.9)\n",
        "print(f'Вероятность того, что студент с факультета А = {facA} = {round(facA*100, 2)}%')\n",
        "print(f'Вероятность того, что студент с факультета B = {facB} = {round(facB*100, 2)}%')\n",
        "print(f'Вероятность того, что студент с факультета C = {facC} = {round(facC*100, 2)}%')\n",
        "\n",
        "# Что-то опять меня терзают смутные сомнения..."
      ],
      "metadata": {
        "colab": {
          "base_uri": "https://localhost:8080/"
        },
        "id": "6IlMEBT-vogi",
        "outputId": "2ae0462c-168f-4573-8a0b-3cd380feb36a"
      },
      "execution_count": 45,
      "outputs": [
        {
          "output_type": "stream",
          "name": "stdout",
          "text": [
            "Вероятность того, что студент с факультета А = 0.24242424242424246 = 24.24%\n",
            "Вероятность того, что студент с факультета B = 0.21212121212121213 = 21.21%\n",
            "Вероятность того, что студент с факультета C = 0.27272727272727276 = 27.27%\n"
          ]
        }
      ]
    },
    {
      "cell_type": "markdown",
      "source": [
        "Задание 5.\n",
        "Устройство состоит из трех деталей. Для первой детали вероятность выйти из строя в первый месяц равна 0.1, для второй - 0.2, для третьей - 0.25. Какова вероятность того, что в первый месяц выйдут из строя: а). все детали б). только две детали в). хотя бы одна деталь г). от одной до двух деталей?"
      ],
      "metadata": {
        "id": "rdDrYyEevy8-"
      }
    },
    {
      "cell_type": "code",
      "source": [
        "q1 = 0.1\n",
        "q2 = 0.2\n",
        "q3 = 0.25\n",
        "print(f'Все детали = {q1*q2*q3}')\n",
        "print(f'Только 2 детали = {q1*q2*(1-q3) + q1*(1-q2)*q3 + (1-q1)*q2*q3}')\n",
        "print(f'Хотя бы 1 деталь = {1-(1-q1)*(1-q2)*(1-q3)}')\n",
        "print(f'От 1 до 2х деталей = тут я не понял как посчитать')"
      ],
      "metadata": {
        "colab": {
          "base_uri": "https://localhost:8080/"
        },
        "id": "twA6HUJ4v6Ig",
        "outputId": "d4718ed1-05bc-41c3-c1f2-441ba311b3af"
      },
      "execution_count": 48,
      "outputs": [
        {
          "output_type": "stream",
          "name": "stdout",
          "text": [
            "Все детали = 0.005000000000000001\n",
            "Только 2 детали = 0.08000000000000002\n",
            "Хотя бы 1 деталь = 0.45999999999999996\n",
            "От 1 до 2х деталей = тут я не понял как посчитать\n"
          ]
        }
      ]
    }
  ]
}